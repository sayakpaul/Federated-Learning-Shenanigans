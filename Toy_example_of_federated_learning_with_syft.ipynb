{
  "nbformat": 4,
  "nbformat_minor": 0,
  "metadata": {
    "colab": {
      "name": "Cleaned version of the toy example with syft.ipynb",
      "version": "0.3.2",
      "provenance": [],
      "collapsed_sections": []
    },
    "kernelspec": {
      "name": "python3",
      "display_name": "Python 3"
    }
  },
  "cells": [
    {
      "cell_type": "markdown",
      "metadata": {
        "id": "WcPfi6miWUtt",
        "colab_type": "text"
      },
      "source": [
        "Currently, I am taking the course [Secure and Private AI](https://www.udacity.com/course/secure-and-private-ai--ud185) on Udacity. The course is very well curated and is amazingly taught by none other than [Andrew Trask](https://iamtrask.github.io/). This notebook demonstrates a toy example where I am using Federated Learning using the syft framework for training a shallow neural network."
      ]
    },
    {
      "cell_type": "code",
      "metadata": {
        "id": "tN_0BYquWUYw",
        "colab_type": "code",
        "colab": {}
      },
      "source": [
        "# Install syft\n",
        "!pip install syft"
      ],
      "execution_count": 0,
      "outputs": []
    },
    {
      "cell_type": "code",
      "metadata": {
        "id": "Lumy-O49WPpv",
        "colab_type": "code",
        "outputId": "7438a32e-34ff-4ace-cddf-63ad76c0cc77",
        "colab": {
          "base_uri": "https://localhost:8080/",
          "height": 34
        }
      },
      "source": [
        "import syft, torch\n",
        "\n",
        "# Create syft hook to modify the torch functionalities\n",
        "hook = syft.TorchHook(torch)\n",
        "\n",
        "# Create a remote worker\n",
        "bob = syft.VirtualWorker(hook, id='bob')"
      ],
      "execution_count": 0,
      "outputs": [
        {
          "output_type": "stream",
          "text": [
            "WARNING:root:Torch was already hooked... skipping hooking process\n"
          ],
          "name": "stderr"
        }
      ]
    },
    {
      "cell_type": "code",
      "metadata": {
        "id": "OjeEl61oW1cy",
        "colab_type": "code",
        "colab": {}
      },
      "source": [
        "# Ignore unnecessary warnings and set the random seed\n",
        "import warnings \n",
        "warnings.filterwarnings('ignore')\n",
        "import numpy as np\n",
        "np.random.seed(7)"
      ],
      "execution_count": 0,
      "outputs": []
    },
    {
      "cell_type": "code",
      "metadata": {
        "id": "ouZSRgs2W5q1",
        "colab_type": "code",
        "outputId": "09cdc25e-373a-4e19-c993-592dc3c87a09",
        "colab": {
          "base_uri": "https://localhost:8080/",
          "height": 292
        }
      },
      "source": [
        "# Data loading preview\n",
        "import pandas as pd\n",
        "\n",
        "columns = [\"Age\", \"WorkClass\", \"fnlwgt\", \"Education\", \"EducationNum\",\n",
        "        \"MaritalStatus\", \"Occupation\", \"Relationship\", \"Race\", \"Gender\",\n",
        "        \"CapitalGain\", \"CapitalLoss\", \"HoursPerWeek\", \"NativeCountry\", \"Income\"]\n",
        "\n",
        "data = pd.read_csv('https://archive.ics.uci.edu/ml/machine-learning-databases/adult/adult.data',\n",
        "                    header=None,\n",
        "                    names=columns)\n",
        "\n",
        "data.head()"
      ],
      "execution_count": 0,
      "outputs": [
        {
          "output_type": "execute_result",
          "data": {
            "text/html": [
              "<div>\n",
              "<style scoped>\n",
              "    .dataframe tbody tr th:only-of-type {\n",
              "        vertical-align: middle;\n",
              "    }\n",
              "\n",
              "    .dataframe tbody tr th {\n",
              "        vertical-align: top;\n",
              "    }\n",
              "\n",
              "    .dataframe thead th {\n",
              "        text-align: right;\n",
              "    }\n",
              "</style>\n",
              "<table border=\"1\" class=\"dataframe\">\n",
              "  <thead>\n",
              "    <tr style=\"text-align: right;\">\n",
              "      <th></th>\n",
              "      <th>Age</th>\n",
              "      <th>WorkClass</th>\n",
              "      <th>fnlwgt</th>\n",
              "      <th>Education</th>\n",
              "      <th>EducationNum</th>\n",
              "      <th>MaritalStatus</th>\n",
              "      <th>Occupation</th>\n",
              "      <th>Relationship</th>\n",
              "      <th>Race</th>\n",
              "      <th>Gender</th>\n",
              "      <th>CapitalGain</th>\n",
              "      <th>CapitalLoss</th>\n",
              "      <th>HoursPerWeek</th>\n",
              "      <th>NativeCountry</th>\n",
              "      <th>Income</th>\n",
              "    </tr>\n",
              "  </thead>\n",
              "  <tbody>\n",
              "    <tr>\n",
              "      <th>0</th>\n",
              "      <td>39</td>\n",
              "      <td>State-gov</td>\n",
              "      <td>77516</td>\n",
              "      <td>Bachelors</td>\n",
              "      <td>13</td>\n",
              "      <td>Never-married</td>\n",
              "      <td>Adm-clerical</td>\n",
              "      <td>Not-in-family</td>\n",
              "      <td>White</td>\n",
              "      <td>Male</td>\n",
              "      <td>2174</td>\n",
              "      <td>0</td>\n",
              "      <td>40</td>\n",
              "      <td>United-States</td>\n",
              "      <td>&lt;=50K</td>\n",
              "    </tr>\n",
              "    <tr>\n",
              "      <th>1</th>\n",
              "      <td>50</td>\n",
              "      <td>Self-emp-not-inc</td>\n",
              "      <td>83311</td>\n",
              "      <td>Bachelors</td>\n",
              "      <td>13</td>\n",
              "      <td>Married-civ-spouse</td>\n",
              "      <td>Exec-managerial</td>\n",
              "      <td>Husband</td>\n",
              "      <td>White</td>\n",
              "      <td>Male</td>\n",
              "      <td>0</td>\n",
              "      <td>0</td>\n",
              "      <td>13</td>\n",
              "      <td>United-States</td>\n",
              "      <td>&lt;=50K</td>\n",
              "    </tr>\n",
              "    <tr>\n",
              "      <th>2</th>\n",
              "      <td>38</td>\n",
              "      <td>Private</td>\n",
              "      <td>215646</td>\n",
              "      <td>HS-grad</td>\n",
              "      <td>9</td>\n",
              "      <td>Divorced</td>\n",
              "      <td>Handlers-cleaners</td>\n",
              "      <td>Not-in-family</td>\n",
              "      <td>White</td>\n",
              "      <td>Male</td>\n",
              "      <td>0</td>\n",
              "      <td>0</td>\n",
              "      <td>40</td>\n",
              "      <td>United-States</td>\n",
              "      <td>&lt;=50K</td>\n",
              "    </tr>\n",
              "    <tr>\n",
              "      <th>3</th>\n",
              "      <td>53</td>\n",
              "      <td>Private</td>\n",
              "      <td>234721</td>\n",
              "      <td>11th</td>\n",
              "      <td>7</td>\n",
              "      <td>Married-civ-spouse</td>\n",
              "      <td>Handlers-cleaners</td>\n",
              "      <td>Husband</td>\n",
              "      <td>Black</td>\n",
              "      <td>Male</td>\n",
              "      <td>0</td>\n",
              "      <td>0</td>\n",
              "      <td>40</td>\n",
              "      <td>United-States</td>\n",
              "      <td>&lt;=50K</td>\n",
              "    </tr>\n",
              "    <tr>\n",
              "      <th>4</th>\n",
              "      <td>28</td>\n",
              "      <td>Private</td>\n",
              "      <td>338409</td>\n",
              "      <td>Bachelors</td>\n",
              "      <td>13</td>\n",
              "      <td>Married-civ-spouse</td>\n",
              "      <td>Prof-specialty</td>\n",
              "      <td>Wife</td>\n",
              "      <td>Black</td>\n",
              "      <td>Female</td>\n",
              "      <td>0</td>\n",
              "      <td>0</td>\n",
              "      <td>40</td>\n",
              "      <td>Cuba</td>\n",
              "      <td>&lt;=50K</td>\n",
              "    </tr>\n",
              "  </tbody>\n",
              "</table>\n",
              "</div>"
            ],
            "text/plain": [
              "   Age          WorkClass  fnlwgt  ... HoursPerWeek   NativeCountry  Income\n",
              "0   39          State-gov   77516  ...           40   United-States   <=50K\n",
              "1   50   Self-emp-not-inc   83311  ...           13   United-States   <=50K\n",
              "2   38            Private  215646  ...           40   United-States   <=50K\n",
              "3   53            Private  234721  ...           40   United-States   <=50K\n",
              "4   28            Private  338409  ...           40            Cuba   <=50K\n",
              "\n",
              "[5 rows x 15 columns]"
            ]
          },
          "metadata": {
            "tags": []
          },
          "execution_count": 4
        }
      ]
    },
    {
      "cell_type": "code",
      "metadata": {
        "id": "jCggrZriW7-R",
        "colab_type": "code",
        "colab": {}
      },
      "source": [
        "# Splitting w.r.t fixed indexes rather than random splitting\n",
        "train = data[:30561]\n",
        "test = data[30561:]"
      ],
      "execution_count": 0,
      "outputs": []
    },
    {
      "cell_type": "code",
      "metadata": {
        "id": "RaclaFlBXCrF",
        "colab_type": "code",
        "colab": {}
      },
      "source": [
        "# Extracting the categorical and non-categorical features\n",
        "cat_feats = [column for column in data.columns if data[column].dtypes=='object']\n",
        "non_cat_feats = [column for column in data.columns if data[column].dtypes!='object']\n"
      ],
      "execution_count": 0,
      "outputs": []
    },
    {
      "cell_type": "code",
      "metadata": {
        "id": "g2dVvUxXXGPE",
        "colab_type": "code",
        "colab": {}
      },
      "source": [
        "# Label encode categories\n",
        "from sklearn.preprocessing import LabelEncoder\n",
        "\n",
        "train[cat_feats] = train[cat_feats].apply(LabelEncoder().fit_transform)\n",
        "test[cat_feats] = test[cat_feats].apply(LabelEncoder().fit_transform)"
      ],
      "execution_count": 0,
      "outputs": []
    },
    {
      "cell_type": "code",
      "metadata": {
        "id": "mbPR7seaXJdC",
        "colab_type": "code",
        "outputId": "9f80fcc3-4217-4cad-befb-f95d8d912c0f",
        "colab": {
          "base_uri": "https://localhost:8080/",
          "height": 34
        }
      },
      "source": [
        "# Split the data w.r.t fixed set of indices\n",
        "X_train = train.iloc[:,0:-1]\n",
        "y_train = train['Income']\n",
        "\n",
        "X_test = test.iloc[:,0:-1]\n",
        "y_test = test['Income']\n",
        "\n",
        "X_train.shape, y_train.shape, X_test.shape, y_test.shape"
      ],
      "execution_count": 0,
      "outputs": [
        {
          "output_type": "execute_result",
          "data": {
            "text/plain": [
              "((30561, 14), (30561,), (2000, 14), (2000,))"
            ]
          },
          "metadata": {
            "tags": []
          },
          "execution_count": 8
        }
      ]
    },
    {
      "cell_type": "code",
      "metadata": {
        "id": "d_WHxkN0XLgA",
        "colab_type": "code",
        "colab": {}
      },
      "source": [
        "# Standard scaling\n",
        "from sklearn.preprocessing import StandardScaler\n",
        "\n",
        "scaler = StandardScaler()\n",
        "\n",
        "scaled_train = StandardScaler().fit_transform(X_train[non_cat_feats].values)\n",
        "scaled_test = StandardScaler().fit_transform(X_test[non_cat_feats].values)\n",
        "\n",
        "X_train[non_cat_feats] = scaled_train\n",
        "X_test[non_cat_feats] = scaled_test"
      ],
      "execution_count": 0,
      "outputs": []
    },
    {
      "cell_type": "code",
      "metadata": {
        "id": "TQiq7fEbXN5H",
        "colab_type": "code",
        "colab": {}
      },
      "source": [
        "# Setup the dataset for compatibility with PyTorch\n",
        "X_train['Income'] = y_train\n",
        "X_test['Income'] = y_test\n",
        "\n",
        "train_t = torch.from_numpy(X_train.values)\n",
        "test_t = torch.from_numpy(X_test.values) "
      ],
      "execution_count": 0,
      "outputs": []
    },
    {
      "cell_type": "code",
      "metadata": {
        "id": "1t1R08jEYYeB",
        "colab_type": "code",
        "outputId": "f8ac7602-a4ee-46c2-89b2-1cd77694046c",
        "colab": {
          "base_uri": "https://localhost:8080/",
          "height": 34
        }
      },
      "source": [
        "# Check the shapes\n",
        "train_t.size(), test_t.size()"
      ],
      "execution_count": 0,
      "outputs": [
        {
          "output_type": "execute_result",
          "data": {
            "text/plain": [
              "(torch.Size([30561, 15]), torch.Size([2000, 15]))"
            ]
          },
          "metadata": {
            "tags": []
          },
          "execution_count": 11
        }
      ]
    },
    {
      "cell_type": "code",
      "metadata": {
        "id": "kotRp6QuaP9W",
        "colab_type": "code",
        "colab": {}
      },
      "source": [
        "# Create a custom Dataset\n",
        "from torch.utils.data import Dataset, DataLoader\n",
        "class TabularDataset(Dataset):\n",
        "  def __init__(self, data):\n",
        "    \"\"\"\n",
        "    Courtesy: https://yashuseth.blog/2018/07/22/pytorch-neural-network-for-tabular-data-with-categorical-embeddings/\n",
        "    \"\"\"\n",
        "\n",
        "    self.n = data.shape[0]\n",
        "    self.X = data[:,0:-1].type(torch.float)\n",
        "    self.y = data[:,-1].type(torch.float).view(-1, 1)\n",
        "\n",
        "  def __len__(self):\n",
        "    \"\"\"\n",
        "    Denotes the total number of samples.\n",
        "    \"\"\"\n",
        "    return self.n\n",
        "\n",
        "  def __getitem__(self, idx):\n",
        "    \"\"\"\n",
        "    Generates one sample of data.\n",
        "    \"\"\"\n",
        "    return [self.X[idx], self.y[idx]]"
      ],
      "execution_count": 0,
      "outputs": []
    },
    {
      "cell_type": "code",
      "metadata": {
        "id": "-zTtgrnbbIhL",
        "colab_type": "code",
        "colab": {}
      },
      "source": [
        "# Create the custom train and test datasets\n",
        "full_train = TabularDataset(data=train_t)\n",
        "full_test = TabularDataset(data=test_t)"
      ],
      "execution_count": 0,
      "outputs": []
    },
    {
      "cell_type": "code",
      "metadata": {
        "id": "FsMk5Ob_YdG_",
        "colab_type": "code",
        "colab": {}
      },
      "source": [
        "# Prepare the dataloaders to stream data to the model\n",
        "# in batches of 64\n",
        "\n",
        "train_loader = DataLoader(full_train, 64)\n",
        "test_loader = DataLoader(full_test, 64)"
      ],
      "execution_count": 0,
      "outputs": []
    },
    {
      "cell_type": "code",
      "metadata": {
        "id": "Of5-fP5ldMlC",
        "colab_type": "code",
        "outputId": "0c582f8b-91a6-45a7-894d-9648c0e55dab",
        "colab": {
          "base_uri": "https://localhost:8080/",
          "height": 34
        }
      },
      "source": [
        "# Verify on one sample\n",
        "features, labels = next(iter(train_loader))\n",
        "features.size(), labels.size()"
      ],
      "execution_count": 0,
      "outputs": [
        {
          "output_type": "execute_result",
          "data": {
            "text/plain": [
              "(torch.Size([64, 14]), torch.Size([64, 1]))"
            ]
          },
          "metadata": {
            "tags": []
          },
          "execution_count": 15
        }
      ]
    },
    {
      "cell_type": "code",
      "metadata": {
        "id": "q6lmL3OMdP0G",
        "colab_type": "code",
        "outputId": "13c3fdd2-373a-49a2-b8d0-c29c071e897c",
        "colab": {
          "base_uri": "https://localhost:8080/",
          "height": 187
        }
      },
      "source": [
        "from torch import nn\n",
        "\n",
        "# Model definition\n",
        "model = nn.Sequential(nn.Linear(14, 64),\n",
        "                      nn.ReLU(),\n",
        "                      nn.Dropout(p=0.2),\n",
        "                      nn.Linear(64, 64),\n",
        "                      nn.ReLU(),\n",
        "                      nn.Dropout(p=0.2),\n",
        "                      nn.Linear(64, 1),\n",
        "                      nn.Sigmoid())\n",
        "model"
      ],
      "execution_count": 0,
      "outputs": [
        {
          "output_type": "execute_result",
          "data": {
            "text/plain": [
              "Sequential(\n",
              "  (0): Linear(in_features=14, out_features=64, bias=True)\n",
              "  (1): ReLU()\n",
              "  (2): Dropout(p=0.2)\n",
              "  (3): Linear(in_features=64, out_features=64, bias=True)\n",
              "  (4): ReLU()\n",
              "  (5): Dropout(p=0.2)\n",
              "  (6): Linear(in_features=64, out_features=1, bias=True)\n",
              "  (7): Sigmoid()\n",
              ")"
            ]
          },
          "metadata": {
            "tags": []
          },
          "execution_count": 21
        }
      ]
    },
    {
      "cell_type": "code",
      "metadata": {
        "id": "q_TGSrRid62X",
        "colab_type": "code",
        "colab": {}
      },
      "source": [
        "# Define the loss function and optimizer\n",
        "criterion = nn.MSELoss()\n",
        "optimizer = torch.optim.SGD(model.parameters(), lr=0.01)"
      ],
      "execution_count": 0,
      "outputs": []
    },
    {
      "cell_type": "code",
      "metadata": {
        "id": "iGAs-GUieEL-",
        "colab_type": "code",
        "outputId": "a4a5a007-045f-46e5-86a0-39acd7c3885f",
        "colab": {
          "base_uri": "https://localhost:8080/",
          "height": 357
        }
      },
      "source": [
        "# Train and validate\n",
        "train_losses, test_losses = [], []\n",
        "for e in range(20):\n",
        "  running_loss = 0\n",
        "  for features, labels in train_loader:  \n",
        "    features = features.send(bob)\n",
        "    labels = labels.send(bob)\n",
        "    model = model.send(features.location)\n",
        "    optimizer.zero_grad()\n",
        "    preds = model(features)\n",
        "    loss = criterion(preds, labels)\n",
        "    loss.backward()\n",
        "    optimizer.step()\n",
        "    model = model.get()\n",
        "    running_loss += loss.get().item()\n",
        "  \n",
        "  else:\n",
        "    test_loss = 0\n",
        "    accuracy = 0\n",
        "    with torch.no_grad():\n",
        "      model.eval()\n",
        "      for features, labels in test_loader:\n",
        "        features = features.send(bob)\n",
        "        labels = labels.send(bob)\n",
        "        model = model.send(features.location)\n",
        "        preds = model(features)\n",
        "        test_loss += criterion(preds, labels).get()\n",
        "        _, top_class = preds.topk(1, dim=1)\n",
        "        equals = top_class.long() == labels.long()\n",
        "        accuracy += torch.mean(equals.float()) \n",
        "        model = model.get()\n",
        "    \n",
        "    model.train()\n",
        "    train_losses.append(running_loss/len(train_loader))\n",
        "    test_losses.append(test_loss/len(test_loader))\n",
        "\n",
        "    print(\"Epoch: {}/{}.. \".format(e+1, 40),\n",
        "          \"Training Loss: {:.3f}.. \".format(running_loss/len(train_loader)),\n",
        "          \"Test Loss: {:.3f}.. \".format(test_loss/len(test_loader)),\n",
        "          \"Test Accuracy: {:.3f}\".format(accuracy/len(test_loader)))\n",
        "\n"
      ],
      "execution_count": 0,
      "outputs": [
        {
          "output_type": "stream",
          "text": [
            "Epoch: 1/40..  Training Loss: 0.191..  Test Loss: 0.184..  Test Accuracy: 0.743\n",
            "Epoch: 2/40..  Training Loss: 0.180..  Test Loss: 0.179..  Test Accuracy: 0.743\n",
            "Epoch: 3/40..  Training Loss: 0.176..  Test Loss: 0.174..  Test Accuracy: 0.743\n",
            "Epoch: 4/40..  Training Loss: 0.172..  Test Loss: 0.167..  Test Accuracy: 0.743\n",
            "Epoch: 5/40..  Training Loss: 0.166..  Test Loss: 0.160..  Test Accuracy: 0.743\n",
            "Epoch: 6/40..  Training Loss: 0.160..  Test Loss: 0.152..  Test Accuracy: 0.743\n",
            "Epoch: 7/40..  Training Loss: 0.154..  Test Loss: 0.146..  Test Accuracy: 0.743\n",
            "Epoch: 8/40..  Training Loss: 0.150..  Test Loss: 0.142..  Test Accuracy: 0.743\n",
            "Epoch: 9/40..  Training Loss: 0.145..  Test Loss: 0.139..  Test Accuracy: 0.743\n",
            "Epoch: 10/40..  Training Loss: 0.142..  Test Loss: 0.136..  Test Accuracy: 0.743\n",
            "Epoch: 11/40..  Training Loss: 0.140..  Test Loss: 0.135..  Test Accuracy: 0.743\n",
            "Epoch: 12/40..  Training Loss: 0.138..  Test Loss: 0.134..  Test Accuracy: 0.743\n",
            "Epoch: 13/40..  Training Loss: 0.135..  Test Loss: 0.132..  Test Accuracy: 0.743\n",
            "Epoch: 14/40..  Training Loss: 0.135..  Test Loss: 0.131..  Test Accuracy: 0.743\n",
            "Epoch: 15/40..  Training Loss: 0.134..  Test Loss: 0.132..  Test Accuracy: 0.743\n",
            "Epoch: 16/40..  Training Loss: 0.133..  Test Loss: 0.130..  Test Accuracy: 0.743\n",
            "Epoch: 17/40..  Training Loss: 0.132..  Test Loss: 0.129..  Test Accuracy: 0.743\n",
            "Epoch: 18/40..  Training Loss: 0.131..  Test Loss: 0.127..  Test Accuracy: 0.743\n",
            "Epoch: 19/40..  Training Loss: 0.130..  Test Loss: 0.128..  Test Accuracy: 0.743\n",
            "Epoch: 20/40..  Training Loss: 0.130..  Test Loss: 0.127..  Test Accuracy: 0.743\n"
          ],
          "name": "stdout"
        }
      ]
    }
  ]
}